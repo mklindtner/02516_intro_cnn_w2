{
 "cells": [
  {
   "cell_type": "code",
   "execution_count": 1,
   "id": "15a5116a-355e-44f7-8df7-2f635816a4e6",
   "metadata": {},
   "outputs": [],
   "source": [
    "%load_ext autoreload \n",
    "%autoreload 2\n",
    "\n",
    "import torch\n",
    "import torch.nn as nn\n",
    "import torch.nn.functional as F\n",
    "import torchvision.transforms.v2 as transforms\n",
    "\n",
    "from medseg.datasets import PH2Dataset"
   ]
  },
  {
   "cell_type": "code",
   "execution_count": 2,
   "id": "7ad31ca8-38b2-4fb4-8e46-35bfd3e3c61f",
   "metadata": {},
   "outputs": [],
   "source": [
    "trainset, testset, valset = PH2Dataset('train'), PH2Dataset('test'), PH2Dataset('validation')"
   ]
  },
  {
   "cell_type": "code",
   "execution_count": 3,
   "id": "c78c1782-6a1b-4adb-8193-cf17762f78af",
   "metadata": {},
   "outputs": [],
   "source": [
    "batch_size = 6\n",
    "train_loader = torch.utils.data.DataLoader(trainset, batch_size=batch_size, shuffle=True, num_workers=3)\n",
    "test_loader = torch.utils.data.DataLoader(testset, batch_size=batch_size, shuffle=False, num_workers=3)"
   ]
  },
  {
   "cell_type": "code",
   "execution_count": 4,
   "id": "57e39763-dbf9-413b-8e43-7766e589ba30",
   "metadata": {},
   "outputs": [
    {
     "name": "stdout",
     "output_type": "stream",
     "text": [
      "cuda\n"
     ]
    }
   ],
   "source": [
    "device = torch.device('cuda' if torch.cuda.is_available() else 'cpu')\n",
    "print(device)"
   ]
  }
 ],
 "metadata": {
  "kernelspec": {
   "display_name": "Python 3 (ipykernel)",
   "language": "python",
   "name": "python3"
  },
  "language_info": {
   "codemirror_mode": {
    "name": "ipython",
    "version": 3
   },
   "file_extension": ".py",
   "mimetype": "text/x-python",
   "name": "python",
   "nbconvert_exporter": "python",
   "pygments_lexer": "ipython3",
   "version": "3.11.7"
  }
 },
 "nbformat": 4,
 "nbformat_minor": 5
}
