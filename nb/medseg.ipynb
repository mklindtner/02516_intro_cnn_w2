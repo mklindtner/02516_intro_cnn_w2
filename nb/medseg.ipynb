{
 "cells": [
  {
   "cell_type": "code",
   "execution_count": 1,
   "id": "15a5116a-355e-44f7-8df7-2f635816a4e6",
   "metadata": {},
   "outputs": [],
   "source": [
    "%load_ext autoreload \n",
    "%autoreload 2\n"
   ]
  },
  {
   "cell_type": "code",
   "execution_count": 2,
   "id": "804eb2c6",
   "metadata": {},
   "outputs": [],
   "source": [
    "from medseg.datasets import PH2Dataset"
   ]
  },
  {
   "cell_type": "code",
   "execution_count": 4,
   "id": "7ad31ca8-38b2-4fb4-8e46-35bfd3e3c61f",
   "metadata": {},
   "outputs": [],
   "source": [
    "trainset, testset, valset = PH2Dataset('train'), PH2Dataset('test'), PH2Dataset('validation')"
   ]
  }
 ],
 "metadata": {
  "kernelspec": {
   "display_name": "Python 3 (ipykernel)",
   "language": "python",
   "name": "python3"
  },
  "language_info": {
   "codemirror_mode": {
    "name": "ipython",
    "version": 3
   },
   "file_extension": ".py",
   "mimetype": "text/x-python",
   "name": "python",
   "nbconvert_exporter": "python",
   "pygments_lexer": "ipython3",
   "version": "3.11.7"
  }
 },
 "nbformat": 4,
 "nbformat_minor": 5
}
